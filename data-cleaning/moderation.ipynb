{
 "cells": [
  {
   "attachments": {},
   "cell_type": "markdown",
   "metadata": {},
   "source": [
    "# Moderation"
   ]
  },
  {
   "cell_type": "code",
   "execution_count": null,
   "metadata": {},
   "outputs": [],
   "source": [
    "import pandas as pd\n",
    "from nltk.corpus import stopwords\n",
    "from nltk.stem import WordNetLemmatizer"
   ]
  },
  {
   "cell_type": "code",
   "execution_count": null,
   "metadata": {},
   "outputs": [],
   "source": [
    "# Import stopwords.\n",
    "stop = stopwords.words('english')\n",
    "# Initialize WordNet Lemmatizer.\n",
    "wnl = WordNetLemmatizer()"
   ]
  },
  {
   "cell_type": "code",
   "execution_count": null,
   "metadata": {},
   "outputs": [],
   "source": [
    "def preprocess_data(data: pd.DataFrame) -> pd.DataFrame:\n",
    "    \"\"\"\n",
    "    Function to clean NLP data.\n",
    "    \"\"\"\n",
    "    # Drop null values.\n",
    "    data = data[data['comment'].isna() == False]\n",
    "    # Transform to lower case.\n",
    "    data['comment_clean'] = data['comment'].apply(lambda x: \" \".join(x.lower() for x in x.split()))\n",
    "    # Delete all punctuation symbol.\n",
    "    data['comment_clean'] = data['comment_clean'].str.replace('[^\\w\\s]|_', '')\n",
    "    # Delete all non-significant words.\n",
    "    data['comment_clean'] = data['comment_clean'].apply(lambda x: \" \".join(x for x in x.split() if x not in stop))\n",
    "    # Lemmatize the data\n",
    "    data['comment_clean'] = data['comment_clean'].apply(lambda x: wnl.lemmatize(x, pos=\"v\"))\n",
    "\n",
    "    return data"
   ]
  },
  {
   "cell_type": "code",
   "execution_count": null,
   "metadata": {},
   "outputs": [],
   "source": [
    "# Read the data.\n",
    "data = pd.read_csv('/home/aargaez/downloads/Datathon/data-translated/Checking_translated.csv')"
   ]
  },
  {
   "cell_type": "code",
   "execution_count": null,
   "metadata": {},
   "outputs": [],
   "source": [
    "output = preprocess_data(data=data)"
   ]
  }
 ],
 "metadata": {
  "kernelspec": {
   "display_name": "venv",
   "language": "python",
   "name": "python3"
  },
  "language_info": {
   "codemirror_mode": {
    "name": "ipython",
    "version": 3
   },
   "file_extension": ".py",
   "mimetype": "text/x-python",
   "name": "python",
   "nbconvert_exporter": "python",
   "pygments_lexer": "ipython3",
   "version": "3.8.10"
  },
  "orig_nbformat": 4
 },
 "nbformat": 4,
 "nbformat_minor": 2
}
