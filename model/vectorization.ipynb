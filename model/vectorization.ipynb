{
 "cells": [
  {
   "cell_type": "code",
   "execution_count": 77,
   "metadata": {},
   "outputs": [],
   "source": [
    "import numpy as np\n",
    "import pandas as pd"
   ]
  },
  {
   "cell_type": "code",
   "execution_count": 54,
   "metadata": {},
   "outputs": [
    {
     "data": {
      "text/html": [
       "<div>\n",
       "<style scoped>\n",
       "    .dataframe tbody tr th:only-of-type {\n",
       "        vertical-align: middle;\n",
       "    }\n",
       "\n",
       "    .dataframe tbody tr th {\n",
       "        vertical-align: top;\n",
       "    }\n",
       "\n",
       "    .dataframe thead th {\n",
       "        text-align: right;\n",
       "    }\n",
       "</style>\n",
       "<table border=\"1\" class=\"dataframe\">\n",
       "  <thead>\n",
       "    <tr style=\"text-align: right;\">\n",
       "      <th></th>\n",
       "      <th>Date</th>\n",
       "      <th>nps</th>\n",
       "      <th>Comment</th>\n",
       "    </tr>\n",
       "  </thead>\n",
       "  <tbody>\n",
       "    <tr>\n",
       "      <th>0</th>\n",
       "      <td>4/17/2023 20:23</td>\n",
       "      <td>9</td>\n",
       "      <td>PRECIO</td>\n",
       "    </tr>\n",
       "    <tr>\n",
       "      <th>1</th>\n",
       "      <td>4/17/2023 20:21</td>\n",
       "      <td>9</td>\n",
       "      <td>ES LA PRIMERA VEZ Y SI ME SIENTO CON ALGO DE I...</td>\n",
       "    </tr>\n",
       "    <tr>\n",
       "      <th>2</th>\n",
       "      <td>4/17/2023 20:17</td>\n",
       "      <td>9</td>\n",
       "      <td>Es muy rapido</td>\n",
       "    </tr>\n",
       "    <tr>\n",
       "      <th>3</th>\n",
       "      <td>4/17/2023 20:17</td>\n",
       "      <td>10</td>\n",
       "      <td>Bueno</td>\n",
       "    </tr>\n",
       "    <tr>\n",
       "      <th>4</th>\n",
       "      <td>4/17/2023 20:10</td>\n",
       "      <td>9</td>\n",
       "      <td>Prcticidad</td>\n",
       "    </tr>\n",
       "  </tbody>\n",
       "</table>\n",
       "</div>"
      ],
      "text/plain": [
       "              Date  nps                                            Comment\n",
       "0  4/17/2023 20:23    9                                             PRECIO\n",
       "1  4/17/2023 20:21    9  ES LA PRIMERA VEZ Y SI ME SIENTO CON ALGO DE I...\n",
       "2  4/17/2023 20:17    9                                      Es muy rapido\n",
       "3  4/17/2023 20:17   10                                              Bueno\n",
       "4  4/17/2023 20:10    9                                         Prcticidad"
      ]
     },
     "execution_count": 54,
     "metadata": {},
     "output_type": "execute_result"
    }
   ],
   "source": [
    "df = pd.read_csv(\"../data/Checking.csv\", encoding='iso-8859-1')\n",
    "df.head()"
   ]
  },
  {
   "cell_type": "code",
   "execution_count": 55,
   "metadata": {},
   "outputs": [
    {
     "name": "stdout",
     "output_type": "stream",
     "text": [
      "<class 'pandas.core.frame.DataFrame'>\n",
      "RangeIndex: 17860 entries, 0 to 17859\n",
      "Data columns (total 3 columns):\n",
      " #   Column   Non-Null Count  Dtype \n",
      "---  ------   --------------  ----- \n",
      " 0   Date     17860 non-null  object\n",
      " 1   nps      17860 non-null  int64 \n",
      " 2   Comment  17835 non-null  object\n",
      "dtypes: int64(1), object(2)\n",
      "memory usage: 418.7+ KB\n"
     ]
    }
   ],
   "source": [
    "df.info()"
   ]
  },
  {
   "cell_type": "code",
   "execution_count": 88,
   "metadata": {},
   "outputs": [],
   "source": [
    "labels_column = df.nps#.apply(lambda x: \"B\" if x > 8 else \"lol\")\n",
    "bins = [6, 7, 8, 10]\n",
    "labels = pd.cut(labels_column, bins=bins, labels=[\"M\", \"R\", \"B\"])"
   ]
  },
  {
   "cell_type": "code",
   "execution_count": 89,
   "metadata": {},
   "outputs": [
    {
     "data": {
      "text/plain": [
       "B    16973\n",
       "R      339\n",
       "M      138\n",
       "Name: nps, dtype: int64"
      ]
     },
     "execution_count": 89,
     "metadata": {},
     "output_type": "execute_result"
    }
   ],
   "source": [
    "labels.value_counts()"
   ]
  },
  {
   "cell_type": "code",
   "execution_count": 57,
   "metadata": {},
   "outputs": [
    {
     "name": "stdout",
     "output_type": "stream",
     "text": [
      "['es muy facil', 'ágil', 'rapidos', 'POR LA RAPIDEZ', 'super facil', 'ES MUY FACIL', 'si', 'rapida y eficiente la página', 'Muy eficiente', 'Es muy fácil y rápido.', 'excelente', 'Es muy sencillo y rápido todo, gracias', 'Facil de usar', 'conveniente y rapido', 'por la facilidad', 'servicio en webb', 'POR LA FACILIDAD DEL TRAMITE', 'Amigable', 'FACILIDAD AL HACERLO, ME EVITO TRAMITES EN EL AEROPUERTO', 'La flexibilidad.', 'buen servicio', 'ES CON LOS QUE YO VUELO', 'todo excelente', 'Facil acceso', 'Sencillez', 'EL SERVICIO ES RÁPIDO', 'MUY FACIL', 'RAPIDEZ Y PRACTICIDAD', 'por la rapidez', 'muy buen servicio', 'Buena y fácil de usar', 'Muy facil', 'Todo el proceso fue rápido y sencillo.', 'POR SU RAPIDEZ', 'TODO MUY BIEN', 'excellent servicio', 'La página web es muy práctica', 'muy birn', 'claro', 'AGIL Y FACIL PROCESO']\n"
     ]
    }
   ],
   "source": [
    "sents = df.Comment[30:70].to_list()\n",
    "mini_checking = pd.DataFrame({\"Comment\": sents})\n",
    "print(sents)"
   ]
  },
  {
   "cell_type": "code",
   "execution_count": 58,
   "metadata": {},
   "outputs": [],
   "source": [
    "sents = ['too easy', 'agile', 'rapid', 'FOR THE RAPIDITY', 'super facil', 'TOO EASY', 'and', 'fast and efficient page', 'Very efficient',\n",
    " 'It is very easy and fast.',  'great',  'Everything is very simple and fast, thank you',  'Easy to use',  'convenient and fast',\n",
    " 'by the ease',  'service on webb',  'BECAUSE OF THE EASE OF THE PROCESS',  'Friendly',  'EASILY DOING IT, I AVOID PROCEDURES AT THE AIRPORT',\n",
    " 'Flexibility.',  'good service',  'IT IS WITH WHOM I FLY',  'all excellent',  'Easy access',  'Simplicity',  'THE SERVICE IS FAST',\n",
    " 'VERY EASY',  'SPEED AND PRACTICALITY',  'for the speed', 'very good service', 'good and easy to use', 'Very easy',\n",
    "  'The whole process was quick and easy.',  'FOR ITS SPEED', 'ALL VERY WELL', 'excellent service', 'The website is very practical',\n",
    " 'very well', 'Of course', 'AGILE AND EASY PROCESS']"
   ]
  },
  {
   "cell_type": "code",
   "execution_count": 59,
   "metadata": {},
   "outputs": [],
   "source": [
    "import tensorflow as tf\n",
    "from tensorflow.keras import Sequential\n",
    "from tensorflow.keras.layers import Dense, Embedding, GlobalAveragePooling1D\n",
    "from tensorflow.keras.layers import TextVectorization"
   ]
  },
  {
   "cell_type": "code",
   "execution_count": 60,
   "metadata": {},
   "outputs": [],
   "source": [
    "def custom_standardization(data):\n",
    "    lower = tf.strings.lower(data)\n",
    "    return lower"
   ]
  },
  {
   "cell_type": "code",
   "execution_count": 61,
   "metadata": {},
   "outputs": [],
   "source": [
    "dataset = tf.data.Dataset.from_tensor_slices(sents).batch(32)\n",
    "# list(dataset.as_numpy_iterator())"
   ]
  },
  {
   "cell_type": "code",
   "execution_count": 62,
   "metadata": {},
   "outputs": [],
   "source": [
    "vocab_size = 10000\n",
    "sequence_length = 100\n",
    "\n",
    "vectorizer = TextVectorization(\n",
    "    standardize=\"lower_and_strip_punctuation\",\n",
    "    max_tokens=vocab_size,\n",
    "    output_mode='int',\n",
    "    output_sequence_length=sequence_length)"
   ]
  },
  {
   "cell_type": "code",
   "execution_count": 63,
   "metadata": {},
   "outputs": [
    {
     "name": "stdout",
     "output_type": "stream",
     "text": [
      "WARNING:tensorflow:5 out of the last 9 calls to <function PreprocessingLayer.make_adapt_function.<locals>.adapt_step at 0x00000209E39AB0A0> triggered tf.function retracing. Tracing is expensive and the excessive number of tracings could be due to (1) creating @tf.function repeatedly in a loop, (2) passing tensors with different shapes, (3) passing Python objects instead of tensors. For (1), please define your @tf.function outside of the loop. For (2), @tf.function has reduce_retracing=True option that can avoid unnecessary retracing. For (3), please refer to https://www.tensorflow.org/guide/function#controlling_retracing and https://www.tensorflow.org/api_docs/python/tf/function for  more details.\n"
     ]
    }
   ],
   "source": [
    "vectorizer.adapt(sents)"
   ]
  },
  {
   "cell_type": "code",
   "execution_count": 64,
   "metadata": {},
   "outputs": [
    {
     "data": {
      "text/plain": [
       "61"
      ]
     },
     "execution_count": 64,
     "metadata": {},
     "output_type": "execute_result"
    }
   ],
   "source": [
    "vectorizer.vocabulary_size()"
   ]
  },
  {
   "cell_type": "code",
   "execution_count": 65,
   "metadata": {},
   "outputs": [
    {
     "data": {
      "text/plain": [
       "['and', 'service', 'is', 'fast', 'speed', 'process', 'of', 'it', 'good', 'for']"
      ]
     },
     "execution_count": 65,
     "metadata": {},
     "output_type": "execute_result"
    }
   ],
   "source": [
    "vectorizer.get_vocabulary()[5:15]"
   ]
  },
  {
   "cell_type": "code",
   "execution_count": 66,
   "metadata": {},
   "outputs": [
    {
     "data": {
      "text/plain": [
       "array([19,  1, 12,  1,  1,  0], dtype=int64)"
      ]
     },
     "execution_count": 66,
     "metadata": {},
     "output_type": "execute_result"
    }
   ],
   "source": [
    "output = vectorizer([[\"i like it a lot\"]])\n",
    "output.numpy()[0, :6]"
   ]
  },
  {
   "cell_type": "code",
   "execution_count": 67,
   "metadata": {},
   "outputs": [],
   "source": [
    "embedding_dim=16\n",
    "\n",
    "model = Sequential([\n",
    "  vectorizer,\n",
    "  Embedding(vocab_size, embedding_dim, name=\"embedding\"),\n",
    "  GlobalAveragePooling1D(),\n",
    "  Dense(16, activation='relu'),\n",
    "  Dense(3)\n",
    "])"
   ]
  },
  {
   "cell_type": "code",
   "execution_count": 68,
   "metadata": {},
   "outputs": [],
   "source": [
    "model.compile(optimizer='adam',\n",
    "              loss=tf.keras.losses.BinaryCrossentropy(from_logits=True),\n",
    "              metrics=['accuracy'])"
   ]
  },
  {
   "cell_type": "code",
   "execution_count": 69,
   "metadata": {},
   "outputs": [],
   "source": [
    "tensorboard_callback = tf.keras.callbacks.TensorBoard(log_dir=\"logs\")"
   ]
  }
 ],
 "metadata": {
  "kernelspec": {
   "display_name": "datathon2023",
   "language": "python",
   "name": "python3"
  },
  "language_info": {
   "codemirror_mode": {
    "name": "ipython",
    "version": 3
   },
   "file_extension": ".py",
   "mimetype": "text/x-python",
   "name": "python",
   "nbconvert_exporter": "python",
   "pygments_lexer": "ipython3",
   "version": "3.10.11"
  },
  "orig_nbformat": 4
 },
 "nbformat": 4,
 "nbformat_minor": 2
}
