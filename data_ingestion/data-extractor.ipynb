{
 "cells": [
  {
   "cell_type": "code",
   "execution_count": 1,
   "metadata": {},
   "outputs": [],
   "source": [
    "from typing import Sequence, List, Union, Dict\n",
    "from deep_translator import GoogleTranslator\n",
    "\n",
    "import pandas as pd\n",
    "import numpy as np\n",
    "import pathlib\n",
    "import re"
   ]
  },
  {
   "cell_type": "code",
   "execution_count": 2,
   "metadata": {},
   "outputs": [],
   "source": [
    "class DataTranslator(object):\n",
    "    \"\"\"\n",
    "    Data Translator Class.\n",
    "    Uses the Google API library.\n",
    "    \"\"\"\n",
    "\n",
    "    def __init__(self) -> None:\n",
    "        self._translator = GoogleTranslator(source=\"auto\", target=\"en\")\n",
    "\n",
    "    def translate(self, text_batch: Sequence[str]) -> List[str]:\n",
    "        if not isinstance(text_batch, (list, tuple, set)):\n",
    "            raise ValueError(\"An iterable it's expected\")\n",
    "\n",
    "        translated_batch = self._translator.translate_batch(\n",
    "            batch=text_batch\n",
    "        )\n",
    "\n",
    "        return translated_batch"
   ]
  },
  {
   "cell_type": "code",
   "execution_count": 3,
   "metadata": {},
   "outputs": [],
   "source": [
    "def data_pipeline(folder: str) -> Dict[str, pd.DataFrame]:\n",
    "    # Path to folders.\n",
    "    path = pathlib.Path(folder)\n",
    "\n",
    "    # Search all csv in the current directory.\n",
    "    files = [f.name for f in path.glob('**/*.csv')]\n",
    "\n",
    "    # Dict of pd.DataFrames.\n",
    "    dataframes = {}\n",
    "    \n",
    "\n",
    "    # Iterate over the files.\n",
    "    for file in files:\n",
    "        f = next(path.glob(f'{file}'))\n",
    "        # Read the csv file.\n",
    "        data = pd.read_csv(f, encoding='iso-8859-1')\n",
    "        # Format the columns.\n",
    "        data.columns = data.columns.str.lower()\n",
    "        # Drop the columns without comment.\n",
    "        data = data[data['comment'].isna() == False]\n",
    "        # Handle the datatypes.\n",
    "        data['comment'] = data['comment'].apply(lambda x: str(x).strip())\n",
    "        # Match all string/numeric ones.\n",
    "        pattern = '^[0-9]+$'\n",
    "        # Filter out the number strings.\n",
    "        data = data[data['comment'].str.contains('^[0-9]+$') == False]\n",
    "        # Sort the values by date.\n",
    "        data = data.sort_values(by=['date']).reset_index(drop=True)\n",
    "\n",
    "        # Text batch.\n",
    "        text_batch = data['comment'].to_list()[0:5000]\n",
    "        # Instance the DataTranslator\n",
    "        translator = DataTranslator()\n",
    "        # Translate the data.\n",
    "        text_translated = translator.translate(text_batch=text_batch)\n",
    "\n",
    "        dataframes.update(\n",
    "            {file: pd.DataFrame(data={'comment': text_translated})}\n",
    "        )\n",
    "\n",
    "    return dataframes"
   ]
  },
  {
   "cell_type": "code",
   "execution_count": 4,
   "metadata": {},
   "outputs": [],
   "source": [
    "data_translated = data_pipeline(folder=\"/home/aargaez/downloads/Datathon/data-english\")"
   ]
  },
  {
   "cell_type": "code",
   "execution_count": 5,
   "metadata": {},
   "outputs": [],
   "source": [
    "for label, data in data_translated.items():\n",
    "    data.to_csv(f'{label}', index=False)"
   ]
  },
  {
   "cell_type": "code",
   "execution_count": null,
   "metadata": {},
   "outputs": [],
   "source": [
    "data_translated = pd.DataFrame(data={'comment': results})"
   ]
  },
  {
   "cell_type": "code",
   "execution_count": null,
   "metadata": {},
   "outputs": [],
   "source": [
    "data = pd.read_csv(r\"/home/aargaez/downloads/Datathon/data/Checking.csv\", encoding='iso-8859-1')"
   ]
  },
  {
   "cell_type": "code",
   "execution_count": null,
   "metadata": {},
   "outputs": [],
   "source": [
    "# Format the columns.\n",
    "data.columns = data.columns.str.lower()\n",
    "# Drop the columns without comment.\n",
    "data = data[data['comment'].isna() == False]\n",
    "# Handle the datatypes.\n",
    "data['comment'] = data['comment'].apply(lambda x: str(x).strip())\n",
    "# Match all string/numeric ones.\n",
    "pattern = '^[0-9]+$'\n",
    "# Filter out the number strings.\n",
    "data = data[data['comment'].str.contains('^[0-9]+$') == False]\n",
    "# Sort the values by date.\n",
    "data = data.sort_values(by=['date']).reset_index(drop=True)\n",
    "# Text batch.\n",
    "text_batch = data['comment'].to_list()"
   ]
  },
  {
   "cell_type": "code",
   "execution_count": null,
   "metadata": {},
   "outputs": [],
   "source": [
    "translator = DataTranslator()"
   ]
  },
  {
   "cell_type": "code",
   "execution_count": null,
   "metadata": {},
   "outputs": [],
   "source": [
    "results = translator.translate(text_batch=text_batch[1000:2000])"
   ]
  },
  {
   "cell_type": "code",
   "execution_count": null,
   "metadata": {},
   "outputs": [],
   "source": [
    "translated = pd.DataFrame(data={'comment': results})"
   ]
  },
  {
   "cell_type": "code",
   "execution_count": null,
   "metadata": {},
   "outputs": [],
   "source": [
    "translated.to_csv('Checking_3.csv', index=False)"
   ]
  }
 ],
 "metadata": {
  "kernelspec": {
   "display_name": "venv",
   "language": "python",
   "name": "python3"
  },
  "language_info": {
   "codemirror_mode": {
    "name": "ipython",
    "version": 3
   },
   "file_extension": ".py",
   "mimetype": "text/x-python",
   "name": "python",
   "nbconvert_exporter": "python",
   "pygments_lexer": "ipython3",
   "version": "3.8.10"
  },
  "orig_nbformat": 4
 },
 "nbformat": 4,
 "nbformat_minor": 2
}
